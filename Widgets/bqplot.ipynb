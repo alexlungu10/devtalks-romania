{
 "cells": [
  {
   "cell_type": "code",
   "execution_count": null,
   "metadata": {},
   "outputs": [],
   "source": [
    "import numpy as np\n",
    "\n",
    "import ipywidgets as widgets\n",
    "from bqplot import *\n",
    "import bqplot.pyplot as plt"
   ]
  },
  {
   "cell_type": "markdown",
   "metadata": {},
   "source": [
    "Steps for creating plots:\n",
    "1. Create a figure (DOMWidget)\n",
    "2. Create one or more marks (they'll all be appended to the same figure)\n",
    "3. display the figure"
   ]
  },
  {
   "cell_type": "code",
   "execution_count": null,
   "metadata": {},
   "outputs": [],
   "source": [
    "# simple line chart\n",
    "line_fig = plt.figure(layout=widgets.Layout(width='800px'))\n",
    "\n",
    "x = np.arange(-10, 10, .1)\n",
    "y = [np.sin(x), np.cos(x)]\n",
    "\n",
    "line_mark = plt.plot(x, y)\n",
    "\n",
    "line_fig"
   ]
  },
  {
   "cell_type": "code",
   "execution_count": null,
   "metadata": {},
   "outputs": [],
   "source": [
    "line_mark.y = x ** 2"
   ]
  },
  {
   "cell_type": "code",
   "execution_count": null,
   "metadata": {},
   "outputs": [],
   "source": [
    "line_mark.colors = ['red', 'blue']"
   ]
  },
  {
   "cell_type": "code",
   "execution_count": null,
   "metadata": {},
   "outputs": [],
   "source": [
    "# simple scatter plot\n",
    "scat_fig = plt.figure(title='Scatter')\n",
    "\n",
    "# create x and y data attributes\n",
    "x, y = np.random.rand(2, 10)\n",
    "scat_mark = plt.scatter(x, y, default_size=100, stroke='black')\n",
    "scat_fig"
   ]
  },
  {
   "cell_type": "code",
   "execution_count": null,
   "metadata": {},
   "outputs": [],
   "source": [
    "scat_mark.colors = ['red']"
   ]
  },
  {
   "cell_type": "code",
   "execution_count": null,
   "metadata": {},
   "outputs": [],
   "source": [
    "# bubble chart\n",
    "bubble_fig = plt.figure()\n",
    "\n",
    "# create a few data attributes\n",
    "x, y, size = np.random.rand(3, 10)\n",
    "color = np.random.rand(10)\n",
    "color = np.concatenate([np.tile('A', 3)\n",
    "                        , np.tile('B', 3), np.tile('C', 4)])\n",
    "\n",
    "plt.scales(scales={'color': OrdinalColorScale(domain=list('ABC'),\n",
    "                                              colors=['red', 'green', 'blue'])})\n",
    "\n",
    "plt.scatter(x, y, color=color, size=size, default_size=1000)\n",
    "bubble_fig"
   ]
  },
  {
   "cell_type": "code",
   "execution_count": null,
   "metadata": {},
   "outputs": [],
   "source": [
    "# bar chart\n",
    "import string\n",
    "bar_fig = plt.figure(title='Bar Chart')\n",
    "\n",
    "# custom axes options\n",
    "axes_options = {'x': {'grid_lines': 'none', 'label': 'Category'},\n",
    "                'y': {'label': 'Value', 'tick_format': '.1%', 'color': 'red'}}\n",
    "bar_mark = plt.bar(list(string.ascii_uppercase), np.random.rand(10), axes_options=axes_options)\n",
    "\n",
    "bar_fig"
   ]
  },
  {
   "cell_type": "markdown",
   "metadata": {},
   "source": [
    "`bqlot` figure is a DOMWidget and can be integrated seamlessly with other widgets (`ipywidgets` or other `bqplot` figures)"
   ]
  },
  {
   "cell_type": "code",
   "execution_count": null,
   "metadata": {},
   "outputs": [],
   "source": [
    "check_box = widgets.Checkbox(description='Show/Hide', value=True)"
   ]
  },
  {
   "cell_type": "code",
   "execution_count": null,
   "metadata": {},
   "outputs": [],
   "source": [
    "widgets.HBox([check_box, line_fig])"
   ]
  },
  {
   "cell_type": "code",
   "execution_count": null,
   "metadata": {},
   "outputs": [],
   "source": [
    "# use jsdlink to show/hide the plot\n",
    "widgets.jsdlink((check_box, 'value'), (line_mark, 'visible'))"
   ]
  },
  {
   "cell_type": "code",
   "execution_count": null,
   "metadata": {},
   "outputs": [],
   "source": [
    "line_fig.layout.width = '550px'\n",
    "bar_fig.layout.width = '550px'"
   ]
  },
  {
   "cell_type": "code",
   "execution_count": null,
   "metadata": {},
   "outputs": [],
   "source": [
    "widgets.HBox([line_fig, bar_fig])"
   ]
  },
  {
   "cell_type": "code",
   "execution_count": null,
   "metadata": {},
   "outputs": [],
   "source": [
    "funcs = dict(sin=np.sin, cos=np.cos, tan=np.tan, sinh=np.sinh, tanh=np.tanh)\n",
    "dropdown = widgets.Dropdown(options=funcs, description='Function')\n",
    "\n",
    "fig = plt.figure(animation_duration=1000)\n",
    "\n",
    "# create x and y data attributes for the line chart\n",
    "x = np.arange(-10, 10, .1)\n",
    "y = np.sin(x)\n",
    "\n",
    "line = plt.plot(x, y)\n",
    "\n",
    "widgets.VBox([dropdown, fig])"
   ]
  },
  {
   "cell_type": "code",
   "execution_count": null,
   "metadata": {},
   "outputs": [],
   "source": [
    "def update_line(*args):\n",
    "    f = dropdown.value\n",
    "    line.y = f(x)\n",
    "    \n",
    "dropdown.observe(update_line, 'value')"
   ]
  }
 ],
 "metadata": {
  "kernelspec": {
   "display_name": "Python 3",
   "language": "python",
   "name": "python3"
  },
  "language_info": {
   "codemirror_mode": {
    "name": "ipython",
    "version": 3
   },
   "file_extension": ".py",
   "mimetype": "text/x-python",
   "name": "python",
   "nbconvert_exporter": "python",
   "pygments_lexer": "ipython3",
   "version": "3.8.2"
  }
 },
 "nbformat": 4,
 "nbformat_minor": 2
}
