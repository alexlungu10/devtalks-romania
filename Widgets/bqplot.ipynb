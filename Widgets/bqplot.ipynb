{
 "cells": [
  {
   "cell_type": "code",
   "execution_count": 1,
   "metadata": {},
   "outputs": [],
   "source": [
    "import numpy as np\n",
    "\n",
    "import ipywidgets as widgets\n",
    "from bqplot import *\n",
    "import bqplot.pyplot as plt"
   ]
  },
  {
   "cell_type": "markdown",
   "metadata": {},
   "source": [
    "Steps for creating plots:\n",
    "1. Create a figure (DOMWidget)\n",
    "2. Create one or more marks (they'll all be appended to the same figure)\n",
    "3. display the figure"
   ]
  },
  {
   "cell_type": "code",
   "execution_count": 28,
   "metadata": {},
   "outputs": [
    {
     "data": {
      "application/vnd.jupyter.widget-view+json": {
       "model_id": "338ace7d4a744374ac306817af156452",
       "version_major": 2,
       "version_minor": 0
      },
      "text/plain": [
       "Figure(axes=[Axis(scale=LinearScale()), Axis(orientation='vertical', scale=LinearScale())], fig_margin={'top':…"
      ]
     },
     "metadata": {},
     "output_type": "display_data"
    }
   ],
   "source": [
    "# simple line chart\n",
    "line_fig = plt.figure(layout=widgets.Layout(width='800px'))\n",
    "\n",
    "x = np.arange(-10, 10, .1)\n",
    "y = [np.sin(x), np.cos(x)]\n",
    "\n",
    "line_mark = plt.plot(x, y)\n",
    "\n",
    "line_fig"
   ]
  },
  {
   "cell_type": "code",
   "execution_count": 3,
   "metadata": {},
   "outputs": [],
   "source": [
    "line_mark.y = x ** 2"
   ]
  },
  {
   "cell_type": "code",
   "execution_count": 6,
   "metadata": {},
   "outputs": [],
   "source": [
    "line_mark.colors = ['red', 'blue']"
   ]
  },
  {
   "cell_type": "code",
   "execution_count": 9,
   "metadata": {},
   "outputs": [
    {
     "data": {
      "application/vnd.jupyter.widget-view+json": {
       "model_id": "344cac3044774a48b2e13ebd5a5fab75",
       "version_major": 2,
       "version_minor": 0
      },
      "text/plain": [
       "Figure(axes=[Axis(scale=LinearScale()), Axis(orientation='vertical', scale=LinearScale())], fig_margin={'top':…"
      ]
     },
     "metadata": {},
     "output_type": "display_data"
    }
   ],
   "source": [
    "# simple scatter plot\n",
    "scat_fig = plt.figure(title='Scatter')\n",
    "\n",
    "# create x and y data attributes\n",
    "x, y = np.random.rand(2, 10)\n",
    "scat_mark = plt.scatter(x, y, default_size=100, stroke='black')\n",
    "scat_fig"
   ]
  },
  {
   "cell_type": "code",
   "execution_count": 10,
   "metadata": {},
   "outputs": [],
   "source": [
    "scat_mark.colors = ['red']"
   ]
  },
  {
   "cell_type": "code",
   "execution_count": 13,
   "metadata": {},
   "outputs": [
    {
     "data": {
      "application/vnd.jupyter.widget-view+json": {
       "model_id": "88efa2922ec743338ee649c52e37be35",
       "version_major": 2,
       "version_minor": 0
      },
      "text/plain": [
       "Figure(axes=[ColorAxis(scale=OrdinalColorScale(colors=['red', 'green', 'blue'], domain=['A', 'B', 'C'])), Axis…"
      ]
     },
     "metadata": {},
     "output_type": "display_data"
    }
   ],
   "source": [
    "# bubble chart\n",
    "bubble_fig = plt.figure()\n",
    "\n",
    "# create a few data attributes\n",
    "x, y, size = np.random.rand(3, 10)\n",
    "color = np.random.rand(10)\n",
    "color = np.concatenate([np.tile('A', 3)\n",
    "                        , np.tile('B', 3), np.tile('C', 4)])\n",
    "\n",
    "plt.scales(scales={'color': OrdinalColorScale(domain=list('ABC'),\n",
    "                                              colors=['red', 'green', 'blue'])})\n",
    "\n",
    "plt.scatter(x, y, color=color, size=size, default_size=1000)\n",
    "bubble_fig"
   ]
  },
  {
   "cell_type": "code",
   "execution_count": 16,
   "metadata": {},
   "outputs": [
    {
     "data": {
      "application/vnd.jupyter.widget-view+json": {
       "model_id": "f7b7cb33b64f467981917e760c0a10d6",
       "version_major": 2,
       "version_minor": 0
      },
      "text/plain": [
       "Figure(axes=[Axis(grid_lines='none', label='Category', scale=OrdinalScale()), Axis(color='red', label='Value',…"
      ]
     },
     "metadata": {},
     "output_type": "display_data"
    }
   ],
   "source": [
    "# bar chart\n",
    "import string\n",
    "bar_fig = plt.figure(title='Bar Chart')\n",
    "\n",
    "# custom axes options\n",
    "axes_options = {'x': {'grid_lines': 'none', 'label': 'Category'},\n",
    "                'y': {'label': 'Value', 'tick_format': '.1%', 'color': 'red'}}\n",
    "bar_mark = plt.bar(list(string.ascii_uppercase), np.random.rand(10), axes_options=axes_options)\n",
    "\n",
    "bar_fig"
   ]
  },
  {
   "cell_type": "markdown",
   "metadata": {},
   "source": [
    "`bqlot` figure is a DOMWidget and can be integrated seamlessly with other widgets (`ipywidgets` or other `bqplot` figures)"
   ]
  },
  {
   "cell_type": "code",
   "execution_count": 17,
   "metadata": {},
   "outputs": [],
   "source": [
    "check_box = widgets.Checkbox(description='Show/Hide', value=True)"
   ]
  },
  {
   "cell_type": "code",
   "execution_count": 18,
   "metadata": {},
   "outputs": [
    {
     "data": {
      "application/vnd.jupyter.widget-view+json": {
       "model_id": "b3cb77f1148f4b0fb88d1ccfcf5b6d65",
       "version_major": 2,
       "version_minor": 0
      },
      "text/plain": [
       "HBox(children=(Checkbox(value=True, description='Show/Hide'), Figure(axes=[Axis(scale=LinearScale(), side='bot…"
      ]
     },
     "metadata": {},
     "output_type": "display_data"
    }
   ],
   "source": [
    "widgets.HBox([check_box, line_fig])"
   ]
  },
  {
   "cell_type": "code",
   "execution_count": 19,
   "metadata": {},
   "outputs": [
    {
     "data": {
      "text/plain": [
       "DirectionalLink(source=(Checkbox(value=False, description='Show/Hide'), 'value'), target=(Lines(colors=['red',…"
      ]
     },
     "metadata": {},
     "output_type": "display_data"
    }
   ],
   "source": [
    "# use jsdlink to show/hide the plot\n",
    "widgets.jsdlink((check_box, 'value'), (line_mark, 'visible'))"
   ]
  },
  {
   "cell_type": "code",
   "execution_count": 25,
   "metadata": {},
   "outputs": [],
   "source": [
    "line_fig.layout.width = '550px'\n",
    "bar_fig.layout.width = '550px'"
   ]
  },
  {
   "cell_type": "code",
   "execution_count": 26,
   "metadata": {},
   "outputs": [
    {
     "data": {
      "application/vnd.jupyter.widget-view+json": {
       "model_id": "edb5fed8df1b46a48230ab21900852fc",
       "version_major": 2,
       "version_minor": 0
      },
      "text/plain": [
       "HBox(children=(Figure(axes=[Axis(scale=LinearScale(), side='bottom'), Axis(orientation='vertical', scale=Linea…"
      ]
     },
     "metadata": {},
     "output_type": "display_data"
    }
   ],
   "source": [
    "widgets.HBox([line_fig, bar_fig])"
   ]
  },
  {
   "cell_type": "code",
   "execution_count": 31,
   "metadata": {},
   "outputs": [
    {
     "data": {
      "application/vnd.jupyter.widget-view+json": {
       "model_id": "0a8136c1a19247c3a6f7b90529b083f8",
       "version_major": 2,
       "version_minor": 0
      },
      "text/plain": [
       "VBox(children=(Dropdown(description='Function', options={'sin': <ufunc 'sin'>, 'cos': <ufunc 'cos'>, 'tan': <u…"
      ]
     },
     "metadata": {},
     "output_type": "display_data"
    }
   ],
   "source": [
    "funcs = dict(sin=np.sin, cos=np.cos, tan=np.tan, sinh=np.sinh, tanh=np.tanh)\n",
    "dropdown = widgets.Dropdown(options=funcs, description='Function')\n",
    "\n",
    "fig = plt.figure(animation_duration=1000)\n",
    "\n",
    "# create x and y data attributes for the line chart\n",
    "x = np.arange(-10, 10, .1)\n",
    "y = np.sin(x)\n",
    "\n",
    "line = plt.plot(x, y ,'')\n",
    "\n",
    "widgets.VBox([dropdown, fig])"
   ]
  },
  {
   "cell_type": "code",
   "execution_count": 32,
   "metadata": {},
   "outputs": [],
   "source": [
    "def update_line(*args):\n",
    "    f = dropdown.value\n",
    "    line.y = f(x)\n",
    "    \n",
    "dropdown.observe(update_line, 'value')"
   ]
  }
 ],
 "metadata": {
  "kernelspec": {
   "display_name": "Python 3",
   "language": "python",
   "name": "python3"
  },
  "language_info": {
   "codemirror_mode": {
    "name": "ipython",
    "version": 3
   },
   "file_extension": ".py",
   "mimetype": "text/x-python",
   "name": "python",
   "nbconvert_exporter": "python",
   "pygments_lexer": "ipython3",
   "version": "3.7.6"
  }
 },
 "nbformat": 4,
 "nbformat_minor": 2
}
