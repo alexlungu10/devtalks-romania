{
 "cells": [
  {
   "attachments": {},
   "cell_type": "markdown",
   "metadata": {},
   "source": [
    "## Demos\n",
    "\n",
    "## Documentation\n",
    "* [ipywidgets](https://ipywidgets.readthedocs.io/en/latest/examples/Widget%20List.html)\n",
    "* [bqplot](https://bqplot.readthedocs.io/en/latest/api_documentation.html#bqplot-package)\n",
    "* [voila](https://github.com/voila-dashboards/voila)\n",
    "\n",
    "## Widgets\n",
    "* [ipywidgets](Widgets/ipywidgets.ipynb)\n",
    "* [bqplot](Widgets/bqplot.ipynb)\n",
    "* [Selectors](Widgets/Selectors.ipynb)\n",
    "* [Mark Interactions](Widgets/Mark%20Interactions.ipynb)\n",
    "\n",
    "### General\n",
    "* [Logs Analytics](Logs%20Analytics/Logs%20Dashboard.ipynb)\n",
    "* [Datasaurus](Datasaurus/Datasaurus.ipynb)\n",
    "* Wealth Of Nations\n",
    "  * [Bubble Chart](Wealth%20Of%20Nations/Bubble%20Chart.ipynb)\n",
    "  * [Choropleth](Wealth%20Of%20Nations/Choropleth.ipynb)\n",
    " \n",
    "### Finance\n",
    "* [S&P 500 Index](Time%20Series.ipynb)\n",
    " \n",
    "### Machine Learning\n",
    "* [Gradient Descent](ML/Gradient%20Descent.ipynb)\n",
    "* [Colors From Masters](ML/Colors%20From%20Masters/MasterColors.ipynb)\n",
    "* (More examples in https://github.com/ChakriCherukuri/mlviz)"
   ]
  }
 ],
 "metadata": {
  "kernelspec": {
   "display_name": "Python 3",
   "language": "python",
   "name": "python3"
  },
  "language_info": {
   "codemirror_mode": {
    "name": "ipython",
    "version": 3
   },
   "file_extension": ".py",
   "mimetype": "text/x-python",
   "name": "python",
   "nbconvert_exporter": "python",
   "pygments_lexer": "ipython3",
   "version": "3.8.2"
  }
 },
 "nbformat": 4,
 "nbformat_minor": 2
}
